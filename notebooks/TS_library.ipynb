{
  "cells": [
    {
      "cell_type": "code",
      "execution_count": null,
      "metadata": {
        "colab": {
          "base_uri": "https://localhost:8080/"
        },
        "id": "fwgl1aCey3YF",
        "outputId": "15b3d2b0-a5bd-429b-87e1-7100a5525475"
      },
      "outputs": [],
      "source": [
        "!git clone https://github.com/DanielK345/Time-Series-Library\n",
        "%cd Time-Series-Library"
      ]
    },
    {
      "cell_type": "code",
      "execution_count": null,
      "metadata": {},
      "outputs": [],
      "source": [
        "!nvidia-smi"
      ]
    },
    {
      "cell_type": "code",
      "execution_count": 1,
      "metadata": {},
      "outputs": [],
      "source": [
        "!nvidia-smi"
      ]
    },
    {
      "cell_type": "code",
      "execution_count": null,
      "metadata": {},
      "outputs": [],
      "source": [
        "print(\"Hello World\")"
      ]
    },
    {
      "cell_type": "code",
      "execution_count": 2,
      "metadata": {
        "colab": {
          "base_uri": "https://localhost:8080/"
        },
        "id": "MLaD3DpL2Ptr",
        "outputId": "66e0570f-f080-4779-9584-7f238d5edb19"
      },
      "outputs": [],
      "source": [
        "%ls"
      ]
    },
    {
      "cell_type": "code",
      "execution_count": null,
      "metadata": {
        "colab": {
          "base_uri": "https://localhost:8080/",
          "height": 1000
        },
        "collapsed": true,
        "id": "e_Vr7KWzz6Hi",
        "outputId": "97f83c7d-156a-400c-e31a-350b1b2e7b24"
      },
      "outputs": [],
      "source": [
        "libs = \\\n",
        "\"einops==0.8.0 \\\n",
        "local-attention==1.9.14 \\\n",
        "patool==1.12 \\\n",
        "reformer-pytorch==1.4.4 \\\n",
        "sktime==0.16.1 \\\n",
        "sympy==1.11.1 \\\n",
        "tqdm==4.64.1 \\\n",
        "PyWavelets \\\n",
        "numpy==1.24.4 \\\n",
        "pandas==1.5.3 \\\n",
        "scikit-learn==1.2.2 \\\n",
        "scipy==1.10.1 \\\n",
        "dask[dataframe] \\\n",
        "axial-positional-embedding\"\n",
        "!pip install --upgrade --force-reinstall {libs}"
      ]
    },
    {
      "cell_type": "code",
      "execution_count": null,
      "metadata": {
        "colab": {
          "base_uri": "https://localhost:8080/"
        },
        "id": "010N4QyrtTxK",
        "outputId": "adcdd707-754c-4a30-d2f1-b7997e6f991d"
      },
      "outputs": [],
      "source": [
        "from google.colab import drive\n",
        "import os\n",
        "import numpy as np\n",
        "import pandas as pd\n",
        "import zipfile\n",
        "import matplotlib.pyplot as plt\n",
        "import seaborn as sns\n",
        "import sys\n",
        "import torch\n",
        "import scipy\n",
        "import einops\n",
        "import sktime\n",
        "import local_attention\n",
        "import patoolib\n",
        "import argparse\n",
        "#import reformer_pytorch\n",
        "# einops==0.8.0\n",
        "# local-attention==1.9.14\n",
        "# patool==1.12\n",
        "# reformer-pytorch==1.4.4\n",
        "# scikit-learn==1.2.2\n",
        "# scipy==1.10.1\n",
        "# sktime==0.16.1\n",
        "# sympy==1.11.1\n",
        "# tqdm==4.64.1\n",
        "# PyWavelets"
      ]
    },
    {
      "cell_type": "code",
      "execution_count": null,
      "metadata": {
        "colab": {
          "base_uri": "https://localhost:8080/"
        },
        "id": "MnxWAlA_wwuZ",
        "outputId": "3603a9dd-4edc-4845-83e4-0ce809b8ad57"
      },
      "outputs": [],
      "source": [
        "# Mount Google Drive\n",
        "drive.mount('/content/drive')\n",
        "\n",
        "# Set the path to your folder in Drive\n",
        "root_path = '/content/drive/MyDrive/TS'  # change this!"
      ]
    },
    {
      "cell_type": "code",
      "execution_count": null,
      "metadata": {
        "colab": {
          "base_uri": "https://localhost:8080/"
        },
        "id": "9rPkRpAzxB-7",
        "outputId": "ac987e3d-8455-4e13-aff6-9d7101557c05"
      },
      "outputs": [],
      "source": [
        "csv_files_list = []\n",
        "for dirpath, _, filenames in os.walk(root_path):\n",
        "    for f in filenames:\n",
        "        if f.endswith('.csv'):\n",
        "            csv_files_list.append(os.path.join(dirpath, f))\n",
        "csv_files_list"
      ]
    },
    {
      "cell_type": "code",
      "execution_count": null,
      "metadata": {
        "colab": {
          "base_uri": "https://localhost:8080/",
          "height": 677
        },
        "id": "x_aWlbhZxdxG",
        "outputId": "863b5ac0-e20b-4a9a-f145-d9048a149440"
      },
      "outputs": [],
      "source": [
        "etth1_path = csv_files_list[4]\n",
        "df_etth1 = pd.read_csv(etth1_path)\n",
        "#df_etth1['date'] = pd.to_datetime(df_etth1['date'])\n",
        "df_etth1.head(20)"
      ]
    },
    {
      "cell_type": "code",
      "execution_count": null,
      "metadata": {
        "id": "jIJsIyZexwsE"
      },
      "outputs": [],
      "source": [
        "sys.path.append('/content/Time-Series-Library')"
      ]
    },
    {
      "cell_type": "code",
      "execution_count": null,
      "metadata": {
        "id": "IIcvYd6svQwb"
      },
      "outputs": [],
      "source": [
        "from data_provider.data_loader import Dataset_ETT_hour, Dataset_ETT_minute\n",
        "from exp.exp_long_term_forecasting import Exp_Long_Term_Forecast"
      ]
    },
    {
      "cell_type": "code",
      "execution_count": null,
      "metadata": {
        "id": "2UblmQ0LO4FE"
      },
      "outputs": [],
      "source": [
        "train_data = Dataset_ETT_hour(\n",
        "    args,\n",
        "    root_path=root_path,\n",
        "    flag='train',\n",
        "    features='M',\n",
        "    data_path='ETTh1.csv',\n",
        "    timeenc=1\n",
        ")\n",
        "\n",
        "x, y, x_mark, y_mark = train_data[0]"
      ]
    },
    {
      "cell_type": "code",
      "execution_count": null,
      "metadata": {
        "colab": {
          "base_uri": "https://localhost:8080/"
        },
        "id": "rsqAvlFrPJd1",
        "outputId": "9c133a0f-4e5d-4d54-d61a-e21fb31a0159"
      },
      "outputs": [],
      "source": [
        "x.shape, y.shape, x_mark.shape, y_mark.shape"
      ]
    },
    {
      "cell_type": "code",
      "execution_count": null,
      "metadata": {
        "colab": {
          "base_uri": "https://localhost:8080/"
        },
        "id": "9b065adc",
        "outputId": "3c9c8add-3710-43bc-a145-1e859e99a383"
      },
      "outputs": [],
      "source": [
        "args_dict = {\n",
        "    'model': 'Autoformer',\n",
        "    'model_id': 'ETTh1_96_96',\n",
        "    'data': 'ETTh1',\n",
        "    'root_path': root_path,\n",
        "    'data_path': 'ETTh1.csv',\n",
        "    'features': 'M',           # 'M' for multivariate, 'S' for univariate, 'MS' for multi-to-single\n",
        "    'seq_len': 96,\n",
        "    'label_len': 48,\n",
        "    'pred_len': 96,\n",
        "    'e_layers': 2,\n",
        "    'd_layers': 1,\n",
        "    'factor': 3,\n",
        "    'enc_in': 7,\n",
        "    'dec_in': 7,\n",
        "    'c_out': 7,\n",
        "    'des': 'Exp',\n",
        "    'itr': 1,\n",
        "    'batch_size': 32,\n",
        "    'learning_rate': 0.001,\n",
        "    'train_epochs': 20,\n",
        "    'patience': 7,\n",
        "    'use_gpu': True,\n",
        "    'use_multi_gpu': False,\n",
        "    'device_ids': [0],\n",
        "    'gpu_type': 'cuda',\n",
        "    'use_amp': False,\n",
        "    'checkpoints': './checkpoints/',\n",
        "    'embed': 'timeF',\n",
        "    'inverse': False,\n",
        "    'num_workers': 2,\n",
        "    'use_dtw': False,\n",
        "    'augmentation_ratio': 0,\n",
        "    'task_name': 'long_term_forecast', # Added task_name\n",
        "    'moving_avg': 5, # Added moving_avg\n",
        "    'distil': True, # Added distil\n",
        "    'is_training': 1 # Changed from True to 1\n",
        "}\n",
        "\n",
        "args = argparse.Namespace(**args_dict)\n",
        "print(vars(args))"
      ]
    },
    {
      "cell_type": "code",
      "execution_count": null,
      "metadata": {
        "colab": {
          "base_uri": "https://localhost:8080/"
        },
        "id": "wGypQoT2R3aX",
        "outputId": "5598e84b-d074-4929-9b69-06ccb7b184e1"
      },
      "outputs": [],
      "source": [
        "# Convert args_dict to a string of command-line arguments\n",
        "args_list = []\n",
        "for key, value in args_dict.items():\n",
        "    if key == 'use_gpu':\n",
        "        # Handle use_gpu specifically as it expects a value\n",
        "        args_list.append(f'--{key}')\n",
        "        args_list.append(str(value))\n",
        "    elif isinstance(value, bool):\n",
        "        if value:\n",
        "            args_list.append(f'--{key}')\n",
        "    elif key == 'device_ids' and not args_dict.get('use_multi_gpu', False):\n",
        "        # Omit device_ids if use_multi_gpu is False\n",
        "        continue\n",
        "    elif isinstance(value, list):\n",
        "        args_list.append(f'--{key}')\n",
        "        args_list.extend([str(item) for item in value])\n",
        "    else:\n",
        "        args_list.append(f'--{key}')\n",
        "        args_list.append(str(value))\n",
        "\n",
        "args_string = ' '.join(args_list)\n",
        "\n",
        "# Construct the full command\n",
        "command = f\"python run.py {args_string}\"\n",
        "\n",
        "# Execute the command\n",
        "!{command}"
      ]
    },
    {
      "cell_type": "code",
      "execution_count": null,
      "metadata": {
        "colab": {
          "base_uri": "https://localhost:8080/"
        },
        "id": "DR-i-rolX9jj",
        "outputId": "741eac97-97ec-497f-a144-238cfba2c087"
      },
      "outputs": [],
      "source": [
        "#Load model form checkpoints\n",
        "configs = {\n",
        "    'model': 'Autoformer',\n",
        "    'model_id': 'ETTh1_96_96',\n",
        "    'data': 'ETTh1',\n",
        "    'root_path': root_path,\n",
        "    'data_path': 'ETTh1.csv',\n",
        "    'features': 'M',           # 'M' for multivariate, 'S' for univariate, 'MS' for multi-to-single\n",
        "    'seq_len': 96,\n",
        "    'label_len': 48,\n",
        "    'pred_len': 96,\n",
        "    'e_layers': 2,\n",
        "    'd_layers': 1,\n",
        "    'factor': 3,\n",
        "    'enc_in': 7,\n",
        "    'dec_in': 7,\n",
        "    'c_out': 7,\n",
        "    'des': 'Exp',\n",
        "    'itr': 1,\n",
        "    'batch_size': 32,\n",
        "    'learning_rate': 0.001,\n",
        "    'train_epochs': 20,\n",
        "    'patience': 5,\n",
        "    'use_gpu': True,\n",
        "    'use_multi_gpu': False,\n",
        "    'device_ids': [0],\n",
        "    'gpu_type': 'cuda',\n",
        "    'use_amp': False,\n",
        "    'checkpoints': './checkpoints/',\n",
        "    'inverse': False,\n",
        "    'num_workers': 2,\n",
        "    'use_dtw': False,\n",
        "    'augmentation_ratio': 0,\n",
        "    'task_name': 'long_term_forecast', # Added task_name\n",
        "    'moving_avg': 5, # Corrected moving_avg\n",
        "    'distil': True, # Added distil\n",
        "    'd_model': 512, # Added d_model\n",
        "    'n_heads': 8, # Added n_heads\n",
        "    'dropout': 0.1, # Added dropout\n",
        "    'embed': 'timeF', # Added embed\n",
        "    'activation': 'gelu', # Added activation\n",
        "    'output_attention': False, # Added output_attention\n",
        "    'do_predict': False, # Added do_predict\n",
        "    'freq': 'h', # Added freq\n",
        "    'd_ff': 2048 # Added d_ff\n",
        "}\n",
        "configs = argparse.Namespace(**configs)\n",
        "from models.Autoformer import Model as Autoformer\n",
        "model = Autoformer(configs)\n",
        "#checkpoint_path = '/content/Time-Series-Library/checkpoints/long_term_forecast_ETTh1_96_96_Autoformer_ETTh1_ftM_sl96_ll48_pl96_dm512_nh8_el2_dl1_df2048_expand2_dc4_fc3_ebtimeF_dtFalse_Exp_0/checkpoint.pth'\n",
        "#Upload checkpoint\n",
        "checkpoint_path = '/content/checkpoint.pth'\n",
        "model.load_state_dict(torch.load(checkpoint_path))\n",
        "model.eval()"
      ]
    },
    {
      "cell_type": "code",
      "execution_count": null,
      "metadata": {
        "colab": {
          "base_uri": "https://localhost:8080/"
        },
        "id": "861c8fef",
        "outputId": "053d8edc-b3fc-414e-dd7c-e8de624091d3"
      },
      "outputs": [],
      "source": [
        "results_path = '/content/Time-Series-Library/results'\n",
        "npy_files_list = []\n",
        "for dirpath, _, filenames in os.walk(results_path):\n",
        "    for f in filenames:\n",
        "        if f.endswith('.npy'):\n",
        "            npy_files_list.append(os.path.join(dirpath, f))\n",
        "npy_files_list"
      ]
    },
    {
      "cell_type": "code",
      "execution_count": null,
      "metadata": {
        "colab": {
          "base_uri": "https://localhost:8080/"
        },
        "id": "zD5hJVs2Xy5e",
        "outputId": "7c90e786-8189-494b-d074-788e58c39621"
      },
      "outputs": [],
      "source": [
        "metrics = np.load(npy_files_list[0])\n",
        "metrics"
      ]
    },
    {
      "cell_type": "code",
      "execution_count": null,
      "metadata": {
        "id": "_nG6QzsvX4jM"
      },
      "outputs": [],
      "source": [
        "pred, true = np.load(npy_files_list[1]), np.load(npy_files_list[2])"
      ]
    },
    {
      "cell_type": "code",
      "execution_count": null,
      "metadata": {
        "id": "gRn9e6W3YgV_"
      },
      "outputs": [],
      "source": [
        "%matplotlib inline"
      ]
    },
    {
      "cell_type": "code",
      "execution_count": null,
      "metadata": {
        "colab": {
          "base_uri": "https://localhost:8080/"
        },
        "id": "7TqIi88eYWwV",
        "outputId": "c40b3295-ac05-4067-e820-8054a9239e3d"
      },
      "outputs": [],
      "source": [
        "pred.shape"
      ]
    },
    {
      "cell_type": "code",
      "execution_count": null,
      "metadata": {
        "id": "rXNk0jM2-n1F"
      },
      "outputs": [],
      "source": []
    },
    {
      "cell_type": "code",
      "execution_count": null,
      "metadata": {
        "colab": {
          "base_uri": "https://localhost:8080/",
          "height": 239
        },
        "id": "vvd7tmu_Ypus",
        "outputId": "711de14d-650f-4514-a495-3caebe269341"
      },
      "outputs": [],
      "source": [
        "batch = 0\n",
        "time_f = 5\n",
        "output_feature0 = pred[batch, :, time_f]\n",
        "truth_feature0 = true[batch, :, time_f]\n",
        "plt.figure(figsize=(20, 6))\n",
        "plt.plot(output_feature0, label='pred')\n",
        "plt.plot(truth_feature0, label='true')\n",
        "plt.legend()\n",
        "plt.show()"
      ]
    },
    {
      "cell_type": "code",
      "execution_count": null,
      "metadata": {
        "colab": {
          "base_uri": "https://localhost:8080/",
          "height": 240
        },
        "id": "onCnlV0UY391",
        "outputId": "04836e68-0996-477b-844a-7526a2262a64"
      },
      "outputs": [],
      "source": [
        "batch = 1\n",
        "output_feature0 = pred[batch, :, 0]\n",
        "truth_feature0 = true[batch, :, 0]\n",
        "plt.figure(figsize=(20, 6))\n",
        "plt.plot(output_feature0, label='pred')\n",
        "plt.plot(truth_feature0, label='true')\n",
        "plt.legend()\n",
        "plt.show()"
      ]
    },
    {
      "cell_type": "code",
      "execution_count": null,
      "metadata": {
        "colab": {
          "base_uri": "https://localhost:8080/"
        },
        "id": "WjI5UuAZZk_g",
        "outputId": "e89fee68-69c7-4749-e267-35455c7b52d4"
      },
      "outputs": [],
      "source": [
        "len(df_etth1)"
      ]
    },
    {
      "cell_type": "code",
      "execution_count": null,
      "metadata": {
        "id": "rAYu57wMVGN9"
      },
      "outputs": [],
      "source": [
        "import numpy as np\n",
        "import pandas as pd\n",
        "import torch\n",
        "from sklearn.preprocessing import StandardScaler # Import StandardScaler\n",
        "from utils.timefeatures import (\n",
        "    SecondOfMinute, MinuteOfHour, HourOfDay, DayOfWeek,\n",
        "    DayOfMonth, DayOfYear, MonthOfYear\n",
        ")\n",
        "\n",
        "def time_features(dt_index):\n",
        "    \"\"\"\n",
        "    Returns 4 time features for each timestamp in dt_index to match model input.\n",
        "    Output shape: (len(dt_index), 4)\n",
        "    \"\"\"\n",
        "    features = [\n",
        "        HourOfDay(),\n",
        "        DayOfWeek(),\n",
        "        DayOfMonth(),\n",
        "        DayOfYear(),\n",
        "    ]\n",
        "    # Ensure dt_index is a pandas DatetimeIndex\n",
        "    if not isinstance(dt_index, pd.DatetimeIndex):\n",
        "      dt_index = pd.to_datetime(dt_index)\n",
        "\n",
        "    feats = np.stack([feat(dt_index) for feat in features], axis=1)\n",
        "    return feats\n",
        "\n",
        "\n",
        "def prepare_eval_sample(\n",
        "    series,\n",
        "    timestamps, # Add timestamps as an argument\n",
        "    seq_len=96,\n",
        "    label_len=48,\n",
        "    pred_len=96,\n",
        "    freq='h',\n",
        "    features='M',  # 'S', 'M', or 'MS'\n",
        "    target_index=0  # used only for 'S' and 'MS'\n",
        "):\n",
        "    \"\"\"\n",
        "    Prepares a single evaluation sample for the model from a time series.\n",
        "    Returns: batch_x, batch_y, batch_x_mark, batch_y_mark, dec_inp, scaler\n",
        "    \"\"\"\n",
        "    # Ensure data is a numpy array of float type\n",
        "    series = np.array(series, dtype=np.float32)\n",
        "    L = seq_len + pred_len\n",
        "    assert len(series) >= L, \"Series too short!\"\n",
        "\n",
        "    # Select the last L values\n",
        "    data = series[-L:]\n",
        "    # Select the last L timestamps\n",
        "    time_index = timestamps[-L:]\n",
        "\n",
        "    # Initialize scaler and normalize the data\n",
        "    scaler = StandardScaler()\n",
        "    data = scaler.fit_transform(data)\n",
        "\n",
        "\n",
        "    if features == 'S':\n",
        "        # Univariate input/output\n",
        "        if data.ndim == 2:\n",
        "            x = data[:seq_len, target_index]\n",
        "            y = data[seq_len - label_len:, target_index]\n",
        "        else:\n",
        "            x = data[:seq_len]\n",
        "            y = data[seq_len - label_len:]\n",
        "        batch_x = x.reshape(1, seq_len, 1)\n",
        "        batch_y = y.reshape(1, label_len + pred_len, 1)\n",
        "    elif features == 'M':\n",
        "        # Multivariate input/output\n",
        "        if data.ndim == 1:\n",
        "            data = data[:, None]\n",
        "        x = data[:seq_len, :]\n",
        "        y = data[seq_len - label_len:, :]\n",
        "        batch_x = x.reshape(1, seq_len, -1)\n",
        "        batch_y = y.reshape(1, label_len + pred_len, -1)\n",
        "    elif features == 'MS':\n",
        "        # Multivariate input, univariate output\n",
        "        if data.ndim == 1:\n",
        "            raise ValueError(\"For 'MS', input must be multivariate (2D array)\")\n",
        "        x = data[:seq_len, :]\n",
        "        y = data[seq_len - label_len:, target_index]\n",
        "        batch_x = x.reshape(1, seq_len, -1)\n",
        "        batch_y = y.reshape(1, label_len + pred_len, 1)\n",
        "    else:\n",
        "        raise ValueError(\"features must be 'S', 'M', or 'MS'\")\n",
        "\n",
        "    # Prepare time features (using pandas and your codebase's timefeatures)\n",
        "    x_mark = time_index[:seq_len]\n",
        "    y_mark = time_index[seq_len - label_len:]\n",
        "\n",
        "    # Convert to pandas DatetimeIndex before passing to time_features_fixed\n",
        "    batch_x_mark = time_features_fixed(pd.DatetimeIndex(x_mark)).reshape(1, seq_len, -1)\n",
        "    batch_y_mark = time_features_fixed(pd.DatetimeIndex(y_mark)).reshape(1, label_len + pred_len, -1)\n",
        "\n",
        "    # Prepare dec_inp: first label_len steps from batch_y, then pred_len zeros\n",
        "    dec_zeros = np.zeros_like(batch_y[:, -pred_len:, :])\n",
        "    dec_inp = np.concatenate([batch_y[:, :label_len, :], dec_zeros], axis=1)\n",
        "\n",
        "     # Convert numpy arrays to torch tensors\n",
        "    batch_x = torch.from_numpy(batch_x).float()\n",
        "    batch_y = torch.from_numpy(batch_y).float()\n",
        "    batch_x_mark = torch.from_numpy(batch_x_mark).float()\n",
        "    batch_y_mark = torch.from_numpy(batch_y_mark).float()\n",
        "    dec_inp = torch.from_numpy(dec_inp).float()\n",
        "\n",
        "\n",
        "    return batch_x, batch_y, batch_x_mark, batch_y_mark, dec_inp, scaler # Return scaler"
      ]
    },
    {
      "cell_type": "code",
      "execution_count": null,
      "metadata": {
        "id": "EBLWVsENWzeO"
      },
      "outputs": [],
      "source": [
        "series_values = df_etth1.drop(columns=['date']).values # Drop the 'date' column\n",
        "timestamps = pd.to_datetime(df_etth1['date']) # Get the timestamps as datetime objects\n",
        "\n",
        "batch_x, batch_y, batch_x_mark, batch_y_mark, dec_inp, scaler = prepare_eval_sample(\n",
        "    series_values,\n",
        "    timestamps, # Pass timestamps\n",
        "    features='M'\n",
        ")"
      ]
    },
    {
      "cell_type": "code",
      "execution_count": null,
      "metadata": {
        "colab": {
          "base_uri": "https://localhost:8080/"
        },
        "id": "UMJuBVwPaJ18",
        "outputId": "c22cfae7-5f0a-4adc-ad38-9b5e3c849865"
      },
      "outputs": [],
      "source": [
        "batch_x.shape, batch_y.shape, batch_x_mark.shape, batch_y_mark.shape, dec_inp.shape"
      ]
    },
    {
      "cell_type": "code",
      "execution_count": null,
      "metadata": {
        "id": "S55GNakraDBs"
      },
      "outputs": [],
      "source": [
        "with torch.no_grad():\n",
        "  preds = model(batch_x, batch_x_mark, dec_inp, batch_y_mark)"
      ]
    },
    {
      "cell_type": "code",
      "execution_count": null,
      "metadata": {
        "colab": {
          "base_uri": "https://localhost:8080/",
          "height": 388
        },
        "id": "ETIapBuwSfIP",
        "outputId": "268c38cb-32f8-4799-e7ec-7058638e9bdb"
      },
      "outputs": [],
      "source": [
        "preds_feature0 = preds[0, :, 0]\n",
        "truth_feature0 = batch_y[0, -96:, 0]\n",
        "plt.figure(figsize=(20, 6))\n",
        "plt.plot(preds_feature0, label='pred')\n",
        "plt.plot(truth_feature0, label='true')\n",
        "plt.legend()\n",
        "plt.show()"
      ]
    },
    {
      "cell_type": "code",
      "execution_count": null,
      "metadata": {
        "colab": {
          "base_uri": "https://localhost:8080/",
          "height": 243
        },
        "id": "ff61f564",
        "outputId": "1a251e68-472e-4c39-c2eb-ce4ece5dd2e9"
      },
      "outputs": [],
      "source": [
        "series_values = df_etth1.drop(columns=['date']).values\n",
        "display(series_values)"
      ]
    },
    {
      "cell_type": "code",
      "execution_count": null,
      "metadata": {
        "colab": {
          "base_uri": "https://localhost:8080/"
        },
        "id": "pufOECcNWAv7",
        "outputId": "ce4f7ce2-fa9a-4470-902d-0a79d116226b"
      },
      "outputs": [],
      "source": [
        "series_values.shape"
      ]
    },
    {
      "cell_type": "code",
      "execution_count": null,
      "metadata": {
        "id": "eab28419"
      },
      "outputs": [],
      "source": []
    },
    {
      "cell_type": "code",
      "execution_count": null,
      "metadata": {
        "id": "e31d850f"
      },
      "outputs": [],
      "source": []
    }
  ],
  "metadata": {
    "accelerator": "GPU",
    "colab": {
      "gpuType": "T4",
      "provenance": []
    },
    "kernelspec": {
      "display_name": "Python 3 (ipykernel)",
      "language": "python",
      "name": "python3"
    }
  },
  "nbformat": 4,
  "nbformat_minor": 0
}
